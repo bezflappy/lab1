{
  "cells": [
    {
      "cell_type": "markdown",
      "metadata": {
        "id": "M-DGa20PaHnu"
      },
      "source": [
        "#Задача 1\n",
        "Написать функцию на вход которой подается строка, состоящая из латинских букв.\n",
        "Функция должна вернуть количество гласных букв (a, e, i, o, u) в этой строке. Написать тесты для кода"
      ]
    },
    {
      "cell_type": "code",
      "execution_count": 5,
      "metadata": {
        "id": "XvX8X_JJ6PCb"
      },
      "outputs": [
        {
          "name": "stdout",
          "output_type": "stream",
          "text": [
            "Все тесты пройдены успешно!\n"
          ]
        }
      ],
      "source": [
        "def count_vowels(s):\n",
        "    vowel_set = {'a', 'e', 'i', 'o', 'u'}\n",
        "    vowel_count = 0\n",
        "    for char in s:\n",
        "        if char.lower() in vowel_set:\n",
        "            vowel_count += 1\n",
        "    return vowel_count\n",
        "\n",
        "def test_count_vowels():\n",
        "    assert count_vowels(\"\") == 0, \"Тест 1 не пройден\"\n",
        "    assert count_vowels(\"bcd fgh jklmnpqr stvwxyz\") == 0, \"Тест 2 не пройден\"\n",
        "    assert count_vowels(\"aeiou\") == 5, \"Тест 3 не пройден\"\n",
        "    assert count_vowels(\"Hello, World!\") == 3, \"Тест 4 не пройден\"\n",
        "    assert count_vowels(\"AbcDEfGhIjOuY\") == 5, \"Тест 5 не пройден\"\n",
        "\n",
        "    print(\"Все тесты пройдены успешно!\")\n",
        "\n",
        "test_count_vowels()"
      ]
    },
    {
      "cell_type": "markdown",
      "metadata": {},
      "source": [
        "# Задача 2\n",
        "Написать функцию на вход, которой подается строка. Функция должна вернуть true, если\n",
        "каждый символ в строке встречается только 1 раз, иначе должна вернуть false. Написать тесты для кода"
      ]
    },
    {
      "cell_type": "code",
      "execution_count": 6,
      "metadata": {
        "id": "FppbECao6VIz"
      },
      "outputs": [
        {
          "name": "stdout",
          "output_type": "stream",
          "text": [
            "Все тесты пройдены успешно!\n"
          ]
        }
      ],
      "source": [
        "def has_all_unique_chars(string):\n",
        "    seen_chars = set()\n",
        "    for char in string:\n",
        "        if char in seen_chars:\n",
        "            return False\n",
        "        seen_chars.add(char)\n",
        "    return True\n",
        "\n",
        "def test_has_all_unique_chars():\n",
        "    assert has_all_unique_chars(\"abcdefg\") == True\n",
        "    assert has_all_unique_chars(\"abcdeff\") == False\n",
        "    assert has_all_unique_chars(\"12345\") == True\n",
        "    assert has_all_unique_chars(\"112233\") == False\n",
        "    assert has_all_unique_chars(\"\") == True\n",
        "    assert has_all_unique_chars(\"qwertyuiopasdfghjklzxcvbnm\") == True\n",
        "    assert has_all_unique_chars(\"qwertyuiopasdfghjklzxcvbnma\") == False\n",
        "    \n",
        "    print(\"Все тесты пройдены успешно!\")\n",
        "\n",
        "test_has_all_unique_chars()"
      ]
    },
    {
      "cell_type": "markdown",
      "metadata": {
        "id": "udRiIK1cdt6E"
      },
      "source": [
        "# Задача 3\n",
        "Написать функцию, которая принимает положительное число и возвращает количество\n",
        "бит равных 1 в этом числе. Написать тесты для кода"
      ]
    },
    {
      "cell_type": "code",
      "execution_count": 7,
      "metadata": {
        "id": "6tkfDJRz6dp_"
      },
      "outputs": [
        {
          "name": "stdout",
          "output_type": "stream",
          "text": [
            "Все тесты пройдены успешно.\n"
          ]
        }
      ],
      "source": [
        "def count_set_bits(number):\n",
        "    if number < 0:\n",
        "        raise ValueError(\"The number must be positive\")\n",
        "    \n",
        "    count = 0\n",
        "    while number:\n",
        "        count += number & 1  \n",
        "        number >>= 1        \n",
        "    return count\n",
        "\n",
        "def test_count_set_bits():\n",
        "    assert count_set_bits(0) == 0  \n",
        "    assert count_set_bits(1) == 1  \n",
        "    assert count_set_bits(2) == 1  \n",
        "    assert count_set_bits(3) == 2  \n",
        "    assert count_set_bits(15) == 4  \n",
        "    assert count_set_bits(16) == 1  \n",
        "    assert count_set_bits(31) == 5  \n",
        "\n",
        "\n",
        "test_count_set_bits()\n",
        "\n",
        "print(\"Все тесты пройдены успешно.\")"
      ]
    },
    {
      "cell_type": "markdown",
      "metadata": {
        "id": "26dDUz-Ae17N"
      },
      "source": [
        "# Задача 4\n",
        "Написать функцию, которая принимает положительное число. Функция должна вернуть то,\n",
        "сколько раз необходимо перемножать цифры числа или результат перемножения, чтобы\n",
        "получилось число состоящее из одной цифры.\n",
        "Например, для входного числа:\n",
        "· 39 функция должна вернуть 3, так как 3*9=27 => 2*7=14 => 1*4=4\n",
        "· 4 функция должна вернуть 0, так как число уже состоит из одной цифры\n",
        "· 999 функция должна вернуть 4, так как 9*9*9=729 => 7*2*9=126 => 1*2*6=12 =>\n",
        "1*2=2. Написать тесты для кода"
      ]
    },
    {
      "cell_type": "code",
      "execution_count": 10,
      "metadata": {
        "id": "BH1A_Mgi6i4G"
      },
      "outputs": [
        {
          "name": "stdout",
          "output_type": "stream",
          "text": [
            "Все тесты пройдены успешно!\n"
          ]
        }
      ],
      "source": [
        "def digit_product_chain(num):\n",
        "    steps = 0\n",
        "    while num >= 10:\n",
        "        product = 1\n",
        "        while num > 0:\n",
        "            product *= num % 10\n",
        "            num //= 10\n",
        "        num = product\n",
        "        steps += 1\n",
        "    return steps\n",
        "\n",
        "# Тесты\n",
        "def test_digit_product_chain():\n",
        "    assert digit_product_chain(39) == 3\n",
        "    assert digit_product_chain(4) == 0\n",
        "    assert digit_product_chain(999) == 4\n",
        "    assert digit_product_chain(111) == 1\n",
        "    assert digit_product_chain(12345) == 2\n",
        "    assert digit_product_chain(7777777) == 3\n",
        "\n",
        "    print(\"Все тесты пройдены успешно!\")\n",
        "\n",
        "if __name__ == \"__main__\":\n",
        "    test_digit_product_chain()"
      ]
    },
    {
      "cell_type": "markdown",
      "metadata": {
        "id": "0nS-kIa8g8vd"
      },
      "source": [
        "# Задача 5\n",
        "Написать функцию, которая принимает два целочисленных вектора одинаковой длины и\n",
        "возвращает среднеквадратическое отклонение двух векторов. Написать тесты для кода"
      ]
    },
    {
      "cell_type": "code",
      "execution_count": 11,
      "metadata": {
        "id": "8iphx4LM6xbx"
      },
      "outputs": [
        {
          "name": "stdout",
          "output_type": "stream",
          "text": [
            "Все тесты пройдены успешно!\n"
          ]
        }
      ],
      "source": [
        "import math\n",
        "\n",
        "def root_mean_square_error(predictions, actual):\n",
        "    if len(predictions) != len(actual):\n",
        "        raise ValueError(\"Длину векторов необходимо сделать одинаковой!\")\n",
        "\n",
        "    count = len(predictions)\n",
        "    sum_squared_diff = sum((predictions[i] - actual[i]) ** 2 for i in range(count))\n",
        "    mean_squared_diff = sum_squared_diff / count\n",
        "    rms_error = math.sqrt(mean_squared_diff)\n",
        "    \n",
        "    return rms_error\n",
        "\n",
        "def test_rms_error_identical():\n",
        "    pred = [1, 2, 3, 4, 5]\n",
        "    true = [1, 2, 3, 4, 5]\n",
        "    assert root_mean_square_error(pred, true) == 0\n",
        "\n",
        "def test_rms_error_length_mismatch():\n",
        "    pred = [1, 2, 3, 4, 5]\n",
        "    true = [1, 2, 3, 4]\n",
        "    try:\n",
        "        root_mean_square_error(pred, true)\n",
        "    except ValueError as error:\n",
        "        assert str(error) == \"Длину векторов необходимо сделать одинаковой!\"\n",
        "\n",
        "test_rms_error_identical()\n",
        "test_rms_error_length_mismatch()\n",
        "print('Все тесты пройдены успешно!')"
      ]
    },
    {
      "cell_type": "markdown",
      "metadata": {
        "id": "vpIPKL439zkw"
      },
      "source": [
        "# Задача 6\n",
        "Написать функцию, принимающая целое положительное число. Функция должна вернуть\n",
        "строку вида “(n1**p1)(n2**p2)…(nk**pk)” представляющая разложение числа на простые\n",
        "множители (если pi == 1, то выводить только ni).\n",
        "Например, для числа 86240 функция должна вернуть “(2**5)(5)(7**2)(11)”. Написать тесты для кода"
      ]
    },
    {
      "cell_type": "code",
      "execution_count": 13,
      "metadata": {
        "id": "pFebmcZk94Jw"
      },
      "outputs": [
        {
          "name": "stdout",
          "output_type": "stream",
          "text": [
            "Все тесты пройдены успешно!\n"
          ]
        }
      ],
      "source": [
        "def get_prime_factors(num):\n",
        "    prime_factors_list = []\n",
        "    factor = 2\n",
        "    while num > 1:\n",
        "        count = 0\n",
        "        while num % factor == 0:\n",
        "            num //= factor\n",
        "            count += 1\n",
        "        if count > 0:\n",
        "            prime_factors_list.append((factor, count) if count > 1 else factor)\n",
        "        factor += 1\n",
        "    return prime_factors_list\n",
        "\n",
        "def display_prime_factors(num):\n",
        "    factors = get_prime_factors(num)\n",
        "    formatted_result = \"\"\n",
        "    for factor in factors:\n",
        "        if isinstance(factor, tuple):\n",
        "            formatted_result += f\"({factor[0]}**{factor[1]})\"\n",
        "        else:\n",
        "            formatted_result += f\"({factor})\"\n",
        "    return formatted_result\n",
        "\n",
        "# Тесты\n",
        "def test_display_prime_factors():\n",
        "    assert display_prime_factors(2) == \"(2)\"\n",
        "    assert display_prime_factors(5) == \"(5)\"\n",
        "    assert display_prime_factors(10) == \"(2)(5)\"\n",
        "    assert display_prime_factors(36) == \"(2**2)(3**2)\"\n",
        "    assert display_prime_factors(100) == \"(2**2)(5**2)\"\n",
        "    assert display_prime_factors(86240) == \"(2**5)(5)(7**2)(11)\"\n",
        "\n",
        "test_display_prime_factors()\n",
        "print(\"Все тесты пройдены успешно!\")"
      ]
    },
    {
      "cell_type": "markdown",
      "metadata": {
        "id": "ps2s0BudX7A2"
      },
      "source": [
        "# Задача 7\n",
        "Написать функцию, принимающая целое число n, задающее количество кубиков. Функция\n",
        "должна определить, можно ли из данного кол-ва кубиков построить пирамиду, то есть\n",
        "можно ли представить число n как 1^2+2^2+3^2+…+k^2. Если можно, то функция должна\n",
        "вернуть k, иначе строку “It is impossible”. Написать тесты для кода"
      ]
    },
    {
      "cell_type": "code",
      "execution_count": 16,
      "metadata": {
        "id": "3YPjEXxhX_YT"
      },
      "outputs": [
        {
          "name": "stdout",
          "output_type": "stream",
          "text": [
            "Все тесты пройдены успешно!\n"
          ]
        }
      ],
      "source": [
        "def find_pyramid_layers(n):\n",
        "    if n < 1:\n",
        "        return \"It is impossible\"\n",
        "    \n",
        "    k = 0\n",
        "    total_cubes = 0\n",
        "\n",
        "    while total_cubes < n:\n",
        "        k += 1\n",
        "        total_cubes += k * k\n",
        "\n",
        "        if total_cubes == n:\n",
        "            return k\n",
        "    \n",
        "    return \"It is impossible\"\n",
        "\n",
        "# Тесты\n",
        "def test_find_pyramid_layers_possible():\n",
        "    assert find_pyramid_layers(1) == 1\n",
        "    assert find_pyramid_layers(5) == 2\n",
        "    assert find_pyramid_layers(14) == 3\n",
        "    assert find_pyramid_layers(30) == 4\n",
        "    assert find_pyramid_layers(55) == 5\n",
        "\n",
        "def test_find_pyramid_layers_impossible():\n",
        "    assert find_pyramid_layers(2) == \"It is impossible\"\n",
        "    assert find_pyramid_layers(3) == \"It is impossible\"\n",
        "    assert find_pyramid_layers(6) == \"It is impossible\"\n",
        "\n",
        "test_find_pyramid_layers_possible()\n",
        "test_find_pyramid_layers_impossible()\n",
        "print(\"Все тесты пройдены успешно!\")"
      ]
    },
    {
      "cell_type": "markdown",
      "metadata": {
        "id": "KeKgmIdAQMEJ"
      },
      "source": [
        "# Задача 8\n",
        "Функция принимает на вход положительное число и определяет является ли оно сбалансированным, т.е. сумма цифр до средних равна сумме цифр после. Средними в случае нечетного числа цифр считать одну цифру, в случае четного - две средних. Написать тесты для кода"
      ]
    },
    {
      "cell_type": "code",
      "execution_count": 15,
      "metadata": {
        "id": "gMAAqtqlQrZt"
      },
      "outputs": [
        {
          "name": "stdout",
          "output_type": "stream",
          "text": [
            "Все тесты пройдены успешно!\n"
          ]
        }
      ],
      "source": [
        "def is_balanced(num):\n",
        "    num_str = str(num)\n",
        "    n = len(num_str)\n",
        "    half = n // 2\n",
        "    \n",
        "    # Разделяем строку на две части в зависимости от четности длины\n",
        "    left_half = num_str[:half]\n",
        "    right_half = num_str[-half:]\n",
        "\n",
        "    # Считаем сумму цифр в каждой половине\n",
        "    left_sum = sum(int(digit) for digit in left_half)\n",
        "    right_sum = sum(int(digit) for digit in right_half)\n",
        "    \n",
        "    return left_sum == right_sum\n",
        "\n",
        "#Тесты\n",
        "def test_is_balanced():\n",
        "    assert is_balanced(121) == True\n",
        "    assert is_balanced(1234321) == True\n",
        "    assert is_balanced(12321) == True\n",
        "    assert is_balanced(1234567890) == False\n",
        "    assert is_balanced(11111) == True\n",
        "    assert is_balanced(123456) == False\n",
        "\n",
        "test_is_balanced()\n",
        "print(\"Все тесты пройдены успешно!\")"
      ]
    }
  ],
  "metadata": {
    "colab": {
      "provenance": []
    },
    "kernelspec": {
      "display_name": "Python 3",
      "name": "python3"
    },
    "language_info": {
      "codemirror_mode": {
        "name": "ipython",
        "version": 3
      },
      "file_extension": ".py",
      "mimetype": "text/x-python",
      "name": "python",
      "nbconvert_exporter": "python",
      "pygments_lexer": "ipython3",
      "version": "3.12.6"
    }
  },
  "nbformat": 4,
  "nbformat_minor": 0
}
